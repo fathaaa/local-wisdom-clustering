{
 "cells": [
  {
   "cell_type": "code",
   "execution_count": 1,
   "id": "7d5a89a7",
   "metadata": {
    "_cell_guid": "b1076dfc-b9ad-4769-8c92-a6c4dae69d19",
    "_uuid": "8f2839f25d086af736a60e9eeb907d3b93b6e0e5",
    "execution": {
     "iopub.execute_input": "2024-10-31T07:07:05.452910Z",
     "iopub.status.busy": "2024-10-31T07:07:05.452010Z",
     "iopub.status.idle": "2024-10-31T07:07:06.315520Z",
     "shell.execute_reply": "2024-10-31T07:07:06.314444Z"
    },
    "papermill": {
     "duration": 0.871711,
     "end_time": "2024-10-31T07:07:06.318192",
     "exception": false,
     "start_time": "2024-10-31T07:07:05.446481",
     "status": "completed"
    },
    "tags": []
   },
   "outputs": [
    {
     "name": "stdout",
     "output_type": "stream",
     "text": [
      "/kaggle/input/sum-cleaned-kearifan/sum_cleaned.csv\n"
     ]
    }
   ],
   "source": [
    "# This Python 3 environment comes with many helpful analytics libraries installed\n",
    "# It is defined by the kaggle/python Docker image: https://github.com/kaggle/docker-python\n",
    "# For example, here's several helpful packages to load\n",
    "\n",
    "import numpy as np # linear algebra\n",
    "import pandas as pd # data processing, CSV file I/O (e.g. pd.read_csv)\n",
    "\n",
    "# Input data files are available in the read-only \"../input/\" directory\n",
    "# For example, running this (by clicking run or pressing Shift+Enter) will list all files under the input directory\n",
    "\n",
    "import os\n",
    "for dirname, _, filenames in os.walk('/kaggle/input'):\n",
    "    for filename in filenames:\n",
    "        print(os.path.join(dirname, filename))\n",
    "\n",
    "# You can write up to 20GB to the current directory (/kaggle/working/) that gets preserved as output when you create a version using \"Save & Run All\" \n",
    "# You can also write temporary files to /kaggle/temp/, but they won't be saved outside of the current session"
   ]
  },
  {
   "cell_type": "code",
   "execution_count": 2,
   "id": "a4d60330",
   "metadata": {
    "execution": {
     "iopub.execute_input": "2024-10-31T07:07:06.330278Z",
     "iopub.status.busy": "2024-10-31T07:07:06.329487Z",
     "iopub.status.idle": "2024-10-31T07:07:20.487211Z",
     "shell.execute_reply": "2024-10-31T07:07:20.486109Z"
    },
    "papermill": {
     "duration": 14.166307,
     "end_time": "2024-10-31T07:07:20.489784",
     "exception": false,
     "start_time": "2024-10-31T07:07:06.323477",
     "status": "completed"
    },
    "tags": []
   },
   "outputs": [
    {
     "name": "stdout",
     "output_type": "stream",
     "text": [
      "Collecting Sastrawi\r\n",
      "  Downloading Sastrawi-1.0.1-py2.py3-none-any.whl.metadata (909 bytes)\r\n",
      "Downloading Sastrawi-1.0.1-py2.py3-none-any.whl (209 kB)\r\n",
      "\u001b[2K   \u001b[90m━━━━━━━━━━━━━━━━━━━━━━━━━━━━━━━━━━━━━━━━\u001b[0m \u001b[32m209.7/209.7 kB\u001b[0m \u001b[31m3.5 MB/s\u001b[0m eta \u001b[36m0:00:00\u001b[0m\r\n",
      "\u001b[?25hInstalling collected packages: Sastrawi\r\n",
      "Successfully installed Sastrawi-1.0.1\r\n"
     ]
    }
   ],
   "source": [
    "! pip install Sastrawi"
   ]
  },
  {
   "cell_type": "code",
   "execution_count": 3,
   "id": "0e24bf4e",
   "metadata": {
    "execution": {
     "iopub.execute_input": "2024-10-31T07:07:20.500021Z",
     "iopub.status.busy": "2024-10-31T07:07:20.499643Z",
     "iopub.status.idle": "2024-10-31T07:07:22.269580Z",
     "shell.execute_reply": "2024-10-31T07:07:22.268421Z"
    },
    "papermill": {
     "duration": 1.777969,
     "end_time": "2024-10-31T07:07:22.272100",
     "exception": false,
     "start_time": "2024-10-31T07:07:20.494131",
     "status": "completed"
    },
    "tags": []
   },
   "outputs": [],
   "source": [
    "import re\n",
    "import nltk\n",
    "from nltk.corpus import stopwords\n",
    "from nltk.tokenize import word_tokenize\n",
    "from collections import Counter\n",
    "import matplotlib.pyplot as plt"
   ]
  },
  {
   "cell_type": "code",
   "execution_count": 4,
   "id": "17301c0b",
   "metadata": {
    "execution": {
     "iopub.execute_input": "2024-10-31T07:07:22.282214Z",
     "iopub.status.busy": "2024-10-31T07:07:22.281311Z",
     "iopub.status.idle": "2024-10-31T07:07:22.478578Z",
     "shell.execute_reply": "2024-10-31T07:07:22.477494Z"
    },
    "papermill": {
     "duration": 0.204682,
     "end_time": "2024-10-31T07:07:22.480935",
     "exception": false,
     "start_time": "2024-10-31T07:07:22.276253",
     "status": "completed"
    },
    "tags": []
   },
   "outputs": [
    {
     "name": "stdout",
     "output_type": "stream",
     "text": [
      "[nltk_data] Downloading package punkt to /usr/share/nltk_data...\n",
      "[nltk_data]   Package punkt is already up-to-date!\n",
      "[nltk_data] Downloading package stopwords to /usr/share/nltk_data...\n",
      "[nltk_data]   Package stopwords is already up-to-date!\n"
     ]
    },
    {
     "data": {
      "text/plain": [
       "True"
      ]
     },
     "execution_count": 4,
     "metadata": {},
     "output_type": "execute_result"
    }
   ],
   "source": [
    "nltk.download('punkt')\n",
    "nltk.download('stopwords')"
   ]
  },
  {
   "cell_type": "code",
   "execution_count": 5,
   "id": "e1dbb5f5",
   "metadata": {
    "execution": {
     "iopub.execute_input": "2024-10-31T07:07:22.490607Z",
     "iopub.status.busy": "2024-10-31T07:07:22.490228Z",
     "iopub.status.idle": "2024-10-31T07:07:22.632635Z",
     "shell.execute_reply": "2024-10-31T07:07:22.631155Z"
    },
    "papermill": {
     "duration": 0.150065,
     "end_time": "2024-10-31T07:07:22.635241",
     "exception": false,
     "start_time": "2024-10-31T07:07:22.485176",
     "status": "completed"
    },
    "tags": []
   },
   "outputs": [
    {
     "data": {
      "text/html": [
       "<div>\n",
       "<style scoped>\n",
       "    .dataframe tbody tr th:only-of-type {\n",
       "        vertical-align: middle;\n",
       "    }\n",
       "\n",
       "    .dataframe tbody tr th {\n",
       "        vertical-align: top;\n",
       "    }\n",
       "\n",
       "    .dataframe thead th {\n",
       "        text-align: right;\n",
       "    }\n",
       "</style>\n",
       "<table border=\"1\" class=\"dataframe\">\n",
       "  <thead>\n",
       "    <tr style=\"text-align: right;\">\n",
       "      <th></th>\n",
       "      <th>Unnamed: 0</th>\n",
       "      <th>Istilah</th>\n",
       "      <th>Asal Daerah</th>\n",
       "      <th>Deskripsi</th>\n",
       "      <th>Judul Esai</th>\n",
       "      <th>Link Esai</th>\n",
       "      <th>Diambil dari Penulis Author(s)</th>\n",
       "      <th>Related to SDGs</th>\n",
       "      <th>Link Foto (opsional)</th>\n",
       "      <th>Essay Kontes Ke</th>\n",
       "      <th>Isi</th>\n",
       "    </tr>\n",
       "  </thead>\n",
       "  <tbody>\n",
       "    <tr>\n",
       "      <th>0</th>\n",
       "      <td>0</td>\n",
       "      <td>Ampa Fare</td>\n",
       "      <td>NTB</td>\n",
       "      <td>Tradisi musim panen dimana padi yang telah dik...</td>\n",
       "      <td>Parafu Ro Waro dalam Pusaran Mata Air: Menghid...</td>\n",
       "      <td>https://drive.google.com/open?id=1cKyTeGXRZxck...</td>\n",
       "      <td>Kasmiatun</td>\n",
       "      <td>No. 6</td>\n",
       "      <td>NaN</td>\n",
       "      <td>No. 3</td>\n",
       "      <td>Populasi penduduk dunia yang kian bertambah, d...</td>\n",
       "    </tr>\n",
       "    <tr>\n",
       "      <th>1</th>\n",
       "      <td>1</td>\n",
       "      <td>Bau Nyale</td>\n",
       "      <td>NTB</td>\n",
       "      <td>Tradisi menangkap cacing laut yang dilakukan m...</td>\n",
       "      <td>Parafu Ro Waro dalam Pusaran Mata Air: Menghid...</td>\n",
       "      <td>https://drive.google.com/open?id=1cKyTeGXRZxck...</td>\n",
       "      <td>Kasmiatun</td>\n",
       "      <td>No. 6</td>\n",
       "      <td>NaN</td>\n",
       "      <td>No. 3</td>\n",
       "      <td>Populasi penduduk dunia yang kian bertambah, d...</td>\n",
       "    </tr>\n",
       "    <tr>\n",
       "      <th>2</th>\n",
       "      <td>2</td>\n",
       "      <td>Beas Perelek</td>\n",
       "      <td>Jawa Barat</td>\n",
       "      <td>Tradisi patungan/urunan warga dalam bentuk sum...</td>\n",
       "      <td>Mewujudkan Dunia Tanpa Kelaparan (No Hunger) M...</td>\n",
       "      <td>https://drive.google.com/open?id=1l8i3YsUEDwKx...</td>\n",
       "      <td>Heri Heryana</td>\n",
       "      <td>No. 2, 3, &amp; 15</td>\n",
       "      <td>NaN</td>\n",
       "      <td>No. 3</td>\n",
       "      <td>Tahun 2022 merupakan tahun ke-7 pelaksanaan pr...</td>\n",
       "    </tr>\n",
       "    <tr>\n",
       "      <th>3</th>\n",
       "      <td>3</td>\n",
       "      <td>Dawan</td>\n",
       "      <td>Pulau Timor, NTT</td>\n",
       "      <td>sapaan orang bukan \"Atoin Meto\" kepada masyara...</td>\n",
       "      <td>Tradisi Usá: Kearifan Lokal Atoin Meto (Dawan)...</td>\n",
       "      <td>https://drive.google.com/open?id=1YKwwxv3VXROf...</td>\n",
       "      <td>Jondry Siki</td>\n",
       "      <td>NaN</td>\n",
       "      <td>NaN</td>\n",
       "      <td>No. 3</td>\n",
       "      <td>Dawan adalah salah satu etnis yang mendiami Pu...</td>\n",
       "    </tr>\n",
       "    <tr>\n",
       "      <th>4</th>\n",
       "      <td>4</td>\n",
       "      <td>Dusung</td>\n",
       "      <td>Maluku</td>\n",
       "      <td>Merupakan kearifan lokal masyarakat Maluku yan...</td>\n",
       "      <td>Belajar dari Dusung Konsep Agroforestri Intens...</td>\n",
       "      <td>https://drive.google.com/open?id=1p11P4IR7H15w...</td>\n",
       "      <td>Moch Sofiyulloh</td>\n",
       "      <td>No. 2, 3, &amp; 15</td>\n",
       "      <td>NaN</td>\n",
       "      <td>No. 3</td>\n",
       "      <td>Dunia saat ini berkembang sangat pesat, dengan...</td>\n",
       "    </tr>\n",
       "    <tr>\n",
       "      <th>...</th>\n",
       "      <td>...</td>\n",
       "      <td>...</td>\n",
       "      <td>...</td>\n",
       "      <td>...</td>\n",
       "      <td>...</td>\n",
       "      <td>...</td>\n",
       "      <td>...</td>\n",
       "      <td>...</td>\n",
       "      <td>...</td>\n",
       "      <td>...</td>\n",
       "      <td>...</td>\n",
       "    </tr>\n",
       "    <tr>\n",
       "      <th>381</th>\n",
       "      <td>392</td>\n",
       "      <td>Ngahuma</td>\n",
       "      <td>NaN</td>\n",
       "      <td>Ngahuma adalah sistem pertanian tradisional ma...</td>\n",
       "      <td>Pertanian Berbasis Kearifan Budaya hingga Bang...</td>\n",
       "      <td>https://drive.google.com/open?id=1YW0dtNRJdnhI...</td>\n",
       "      <td>Muhammad Naufal Rizqulloh</td>\n",
       "      <td>No. 1,2,3,4</td>\n",
       "      <td>NaN</td>\n",
       "      <td>Ke 3</td>\n",
       "      <td>Kegiatan bertani pada hakikatnya merupakan keg...</td>\n",
       "    </tr>\n",
       "    <tr>\n",
       "      <th>382</th>\n",
       "      <td>393</td>\n",
       "      <td>Jaranan Buto</td>\n",
       "      <td>Jawa Timur</td>\n",
       "      <td>Jaranan Buto adalah pertunjukan seni khas Bany...</td>\n",
       "      <td>Peran dan Keterlibatan Perempuan dalam Kesenia...</td>\n",
       "      <td>https://drive.google.com/open?id=19740DnCJa3RQ...</td>\n",
       "      <td>Julita Hasanah</td>\n",
       "      <td>No. 5</td>\n",
       "      <td>NaN</td>\n",
       "      <td>Ke 3</td>\n",
       "      <td>Terlahir sebagai perempuan asli Jawa Timur mem...</td>\n",
       "    </tr>\n",
       "    <tr>\n",
       "      <th>383</th>\n",
       "      <td>394</td>\n",
       "      <td>Mokarawo</td>\n",
       "      <td>Gorontalo</td>\n",
       "      <td>Mokarawo merupakan seni sulam tradisional khas...</td>\n",
       "      <td>Fusi Tradisi Huyula dan Mokarawo sebagai Prins...</td>\n",
       "      <td>https://drive.google.com/open?id=1a1Ks8ce9vy22...</td>\n",
       "      <td>Muhammad Rizq Gobel</td>\n",
       "      <td>No. 1,4,5,8</td>\n",
       "      <td>NaN</td>\n",
       "      <td>Ke 3</td>\n",
       "      <td>Peradaban manusia yang semakin maju dan tidak ...</td>\n",
       "    </tr>\n",
       "    <tr>\n",
       "      <th>384</th>\n",
       "      <td>395</td>\n",
       "      <td>Wija pattola palallo</td>\n",
       "      <td>Sulawesi Selatan</td>\n",
       "      <td>Wija pattola palallo adalah prinsip kearifan l...</td>\n",
       "      <td>Wija Pattola Palallo: Motivasi Orang Tua Bugis...</td>\n",
       "      <td>https://drive.google.com/open?id=1K5io345ZMTfW...</td>\n",
       "      <td>Adnan Achiruddin Saleh</td>\n",
       "      <td>NaN</td>\n",
       "      <td>NaN</td>\n",
       "      <td>Ke 3</td>\n",
       "      <td>Sebuah percakapan tentang masa depan; Melo ka ...</td>\n",
       "    </tr>\n",
       "    <tr>\n",
       "      <th>385</th>\n",
       "      <td>396</td>\n",
       "      <td>Ngumbung</td>\n",
       "      <td>Sumatera Utara</td>\n",
       "      <td>Ngumbung adalah tradisi masyarakat Karo yang d...</td>\n",
       "      <td>Ngumbung, Rebu dan Begu: Eksistensi Mitologi s...</td>\n",
       "      <td>https://drive.google.com/open?id=1Ie5U47cAnQRi...</td>\n",
       "      <td>Edy Ridwanda Sembiring</td>\n",
       "      <td>No. 12, 15</td>\n",
       "      <td>NaN</td>\n",
       "      <td>Ke 3</td>\n",
       "      <td>Langit terlihat mendung dan gelap sejauh mata ...</td>\n",
       "    </tr>\n",
       "  </tbody>\n",
       "</table>\n",
       "<p>386 rows × 11 columns</p>\n",
       "</div>"
      ],
      "text/plain": [
       "     Unnamed: 0               Istilah       Asal Daerah  \\\n",
       "0             0             Ampa Fare               NTB   \n",
       "1             1             Bau Nyale               NTB   \n",
       "2             2          Beas Perelek        Jawa Barat   \n",
       "3             3                 Dawan  Pulau Timor, NTT   \n",
       "4             4                Dusung            Maluku   \n",
       "..          ...                   ...               ...   \n",
       "381         392               Ngahuma               NaN   \n",
       "382         393          Jaranan Buto        Jawa Timur   \n",
       "383         394              Mokarawo         Gorontalo   \n",
       "384         395  Wija pattola palallo  Sulawesi Selatan   \n",
       "385         396              Ngumbung    Sumatera Utara   \n",
       "\n",
       "                                             Deskripsi  \\\n",
       "0    Tradisi musim panen dimana padi yang telah dik...   \n",
       "1    Tradisi menangkap cacing laut yang dilakukan m...   \n",
       "2    Tradisi patungan/urunan warga dalam bentuk sum...   \n",
       "3    sapaan orang bukan \"Atoin Meto\" kepada masyara...   \n",
       "4    Merupakan kearifan lokal masyarakat Maluku yan...   \n",
       "..                                                 ...   \n",
       "381  Ngahuma adalah sistem pertanian tradisional ma...   \n",
       "382  Jaranan Buto adalah pertunjukan seni khas Bany...   \n",
       "383  Mokarawo merupakan seni sulam tradisional khas...   \n",
       "384  Wija pattola palallo adalah prinsip kearifan l...   \n",
       "385  Ngumbung adalah tradisi masyarakat Karo yang d...   \n",
       "\n",
       "                                            Judul Esai  \\\n",
       "0    Parafu Ro Waro dalam Pusaran Mata Air: Menghid...   \n",
       "1    Parafu Ro Waro dalam Pusaran Mata Air: Menghid...   \n",
       "2    Mewujudkan Dunia Tanpa Kelaparan (No Hunger) M...   \n",
       "3    Tradisi Usá: Kearifan Lokal Atoin Meto (Dawan)...   \n",
       "4    Belajar dari Dusung Konsep Agroforestri Intens...   \n",
       "..                                                 ...   \n",
       "381  Pertanian Berbasis Kearifan Budaya hingga Bang...   \n",
       "382  Peran dan Keterlibatan Perempuan dalam Kesenia...   \n",
       "383  Fusi Tradisi Huyula dan Mokarawo sebagai Prins...   \n",
       "384  Wija Pattola Palallo: Motivasi Orang Tua Bugis...   \n",
       "385  Ngumbung, Rebu dan Begu: Eksistensi Mitologi s...   \n",
       "\n",
       "                                             Link Esai  \\\n",
       "0    https://drive.google.com/open?id=1cKyTeGXRZxck...   \n",
       "1    https://drive.google.com/open?id=1cKyTeGXRZxck...   \n",
       "2    https://drive.google.com/open?id=1l8i3YsUEDwKx...   \n",
       "3    https://drive.google.com/open?id=1YKwwxv3VXROf...   \n",
       "4    https://drive.google.com/open?id=1p11P4IR7H15w...   \n",
       "..                                                 ...   \n",
       "381  https://drive.google.com/open?id=1YW0dtNRJdnhI...   \n",
       "382  https://drive.google.com/open?id=19740DnCJa3RQ...   \n",
       "383  https://drive.google.com/open?id=1a1Ks8ce9vy22...   \n",
       "384  https://drive.google.com/open?id=1K5io345ZMTfW...   \n",
       "385  https://drive.google.com/open?id=1Ie5U47cAnQRi...   \n",
       "\n",
       "    Diambil dari Penulis Author(s) Related to SDGs  Link Foto (opsional)  \\\n",
       "0                        Kasmiatun           No. 6                   NaN   \n",
       "1                        Kasmiatun           No. 6                   NaN   \n",
       "2                     Heri Heryana  No. 2, 3, & 15                   NaN   \n",
       "3                      Jondry Siki             NaN                   NaN   \n",
       "4                  Moch Sofiyulloh  No. 2, 3, & 15                   NaN   \n",
       "..                             ...             ...                   ...   \n",
       "381      Muhammad Naufal Rizqulloh     No. 1,2,3,4                   NaN   \n",
       "382                 Julita Hasanah           No. 5                   NaN   \n",
       "383            Muhammad Rizq Gobel     No. 1,4,5,8                   NaN   \n",
       "384         Adnan Achiruddin Saleh             NaN                   NaN   \n",
       "385         Edy Ridwanda Sembiring      No. 12, 15                   NaN   \n",
       "\n",
       "    Essay Kontes Ke                                                Isi  \n",
       "0             No. 3  Populasi penduduk dunia yang kian bertambah, d...  \n",
       "1             No. 3  Populasi penduduk dunia yang kian bertambah, d...  \n",
       "2             No. 3  Tahun 2022 merupakan tahun ke-7 pelaksanaan pr...  \n",
       "3             No. 3  Dawan adalah salah satu etnis yang mendiami Pu...  \n",
       "4             No. 3  Dunia saat ini berkembang sangat pesat, dengan...  \n",
       "..              ...                                                ...  \n",
       "381            Ke 3  Kegiatan bertani pada hakikatnya merupakan keg...  \n",
       "382            Ke 3  Terlahir sebagai perempuan asli Jawa Timur mem...  \n",
       "383            Ke 3  Peradaban manusia yang semakin maju dan tidak ...  \n",
       "384            Ke 3  Sebuah percakapan tentang masa depan; Melo ka ...  \n",
       "385            Ke 3  Langit terlihat mendung dan gelap sejauh mata ...  \n",
       "\n",
       "[386 rows x 11 columns]"
      ]
     },
     "execution_count": 5,
     "metadata": {},
     "output_type": "execute_result"
    }
   ],
   "source": [
    "df_cleaned_3 = pd.read_csv('/kaggle/input/sum-cleaned-kearifan/sum_cleaned.csv')\n",
    "df_cleaned_3"
   ]
  },
  {
   "cell_type": "code",
   "execution_count": 6,
   "id": "976c7579",
   "metadata": {
    "execution": {
     "iopub.execute_input": "2024-10-31T07:07:22.648059Z",
     "iopub.status.busy": "2024-10-31T07:07:22.647286Z",
     "iopub.status.idle": "2024-10-31T07:07:22.684749Z",
     "shell.execute_reply": "2024-10-31T07:07:22.683881Z"
    },
    "papermill": {
     "duration": 0.046248,
     "end_time": "2024-10-31T07:07:22.687035",
     "exception": false,
     "start_time": "2024-10-31T07:07:22.640787",
     "status": "completed"
    },
    "tags": []
   },
   "outputs": [],
   "source": [
    "from Sastrawi.Stemmer.StemmerFactory import StemmerFactory\n",
    "factory = StemmerFactory()\n",
    "stemmer = factory.create_stemmer()"
   ]
  },
  {
   "cell_type": "code",
   "execution_count": 7,
   "id": "abec626e",
   "metadata": {
    "execution": {
     "iopub.execute_input": "2024-10-31T07:07:22.699306Z",
     "iopub.status.busy": "2024-10-31T07:07:22.698963Z",
     "iopub.status.idle": "2024-10-31T07:11:04.519508Z",
     "shell.execute_reply": "2024-10-31T07:11:04.518346Z"
    },
    "papermill": {
     "duration": 221.835949,
     "end_time": "2024-10-31T07:11:04.528039",
     "exception": false,
     "start_time": "2024-10-31T07:07:22.692090",
     "status": "completed"
    },
    "tags": []
   },
   "outputs": [
    {
     "name": "stdout",
     "output_type": "stream",
     "text": [
      "                                   Deskripsi_Cleaned  \\\n",
      "0  tradisi musim panen mana padi kumpul angkut ru...   \n",
      "1  tradisi tangkap cacing laut masyarakat suku sa...   \n",
      "2  tradisi patunganurunan warga bentuk sumbang be...   \n",
      "3  sapa orang atoin meto masyarakat tutur uab met...   \n",
      "4  arif lokal masyarakat malu jalan turun turun p...   \n",
      "\n",
      "                                      Stopword_Count  \n",
      "0  {'yang': 1, 'telah': 1, 'ke': 1, 'atau': 1, 'i...  \n",
      "1  {'yang': 2, 'dilakukan': 1, 'setiap': 1, 'tahu...  \n",
      "2  {'dalam': 4, 'sebanyak': 1, 'atau': 3, 'satu':...  \n",
      "3  {'bukan': 1, 'kepada': 1, 'yang': 2, 'kata': 2...  \n",
      "4  {'merupakan': 1, 'yang': 2, 'secara': 1, 'dimu...  \n"
     ]
    }
   ],
   "source": [
    "def clean_text_and_count_stopwords(text):\n",
    "    text = text.lower()\n",
    "    text = re.sub(r'[^a-z\\s]', '', text)\n",
    "    text = re.sub(r'\\s+', ' ', text).strip()\n",
    "    \n",
    "    tokens = word_tokenize(text)\n",
    "    stop_words = set(stopwords.words('indonesian'))\n",
    "    stopword_count = Counter(word for word in tokens if word in stop_words)\n",
    "    \n",
    "    tokens_cleaned = [word for word in tokens if word not in stop_words]\n",
    "    \n",
    "    tokens_stemmed = [stemmer.stem(word) for word in tokens_cleaned]\n",
    "    cleaned_text = ' '.join(tokens_stemmed)\n",
    "    \n",
    "    return cleaned_text, stopword_count\n",
    "\n",
    "df_cleantext = df_cleaned_3['Deskripsi'].apply(clean_text_and_count_stopwords)\n",
    "\n",
    "df_cleaned_3['Deskripsi_Cleaned'] = df_cleantext.apply(lambda x: x[0])\n",
    "df_cleaned_3['Stopword_Count'] = df_cleantext.apply(lambda x: x[1])  \n",
    "print(df_cleaned_3[['Deskripsi_Cleaned', 'Stopword_Count']].head())"
   ]
  },
  {
   "cell_type": "code",
   "execution_count": 8,
   "id": "0f094aa3",
   "metadata": {
    "execution": {
     "iopub.execute_input": "2024-10-31T07:11:04.540590Z",
     "iopub.status.busy": "2024-10-31T07:11:04.540179Z",
     "iopub.status.idle": "2024-10-31T07:11:05.036197Z",
     "shell.execute_reply": "2024-10-31T07:11:05.035067Z"
    },
    "papermill": {
     "duration": 0.504793,
     "end_time": "2024-10-31T07:11:05.038624",
     "exception": false,
     "start_time": "2024-10-31T07:11:04.533831",
     "status": "completed"
    },
    "tags": []
   },
   "outputs": [
    {
     "data": {
      "image/png": "[encoded data removed]",
      "text/plain": [
       "<Figure size 1000x600 with 1 Axes>"
      ]
     },
     "metadata": {},
     "output_type": "display_data"
    }
   ],
   "source": [
    "total_stopword_count = sum(df_cleaned_3['Stopword_Count'], Counter())\n",
    "top_stopwords = total_stopword_count.most_common(10)\n",
    "stopwords, counts = zip(*top_stopwords)\n",
    "\n",
    "plt.figure(figsize=(10, 6))\n",
    "plt.bar(stopwords, counts, color='skyblue')\n",
    "\n",
    "plt.title('Frekuensi Stopwords yang Dihapus', fontsize=14)\n",
    "plt.xlabel('Stopwords', fontsize=12)\n",
    "plt.ylabel('Frekuensi', fontsize=12)\n",
    "plt.xticks(rotation=45)\n",
    "\n",
    "plt.tight_layout()\n",
    "plt.show()"
   ]
  },
  {
   "cell_type": "code",
   "execution_count": 9,
   "id": "8d2b3583",
   "metadata": {
    "execution": {
     "iopub.execute_input": "2024-10-31T07:11:05.051717Z",
     "iopub.status.busy": "2024-10-31T07:11:05.051342Z",
     "iopub.status.idle": "2024-10-31T07:11:05.278496Z",
     "shell.execute_reply": "2024-10-31T07:11:05.277577Z"
    },
    "papermill": {
     "duration": 0.2364,
     "end_time": "2024-10-31T07:11:05.280969",
     "exception": false,
     "start_time": "2024-10-31T07:11:05.044569",
     "status": "completed"
    },
    "tags": []
   },
   "outputs": [],
   "source": [
    "df_cleaned_3.to_csv(\"new_datadbscan.csv\",index=False)"
   ]
  }
 ],
 "metadata": {
  "kaggle": {
   "accelerator": "none",
   "dataSources": [
    {
     "datasetId": 5983662,
     "sourceId": 9769505,
     "sourceType": "datasetVersion"
    }
   ],
   "dockerImageVersionId": 30786,
   "isGpuEnabled": false,
   "isInternetEnabled": true,
   "language": "python",
   "sourceType": "notebook"
  },
  "kernelspec": {
   "display_name": "Python 3",
   "language": "python",
   "name": "python3"
  },
  "language_info": {
   "codemirror_mode": {
    "name": "ipython",
    "version": 3
   },
   "file_extension": ".py",
   "mimetype": "text/x-python",
   "name": "python",
   "nbconvert_exporter": "python",
   "pygments_lexer": "ipython3",
   "version": "3.10.14"
  },
  "papermill": {
   "default_parameters": {},
   "duration": 243.46682,
   "end_time": "2024-10-31T07:11:05.909288",
   "environment_variables": {},
   "exception": null,
   "input_path": "__notebook__.ipynb",
   "output_path": "__notebook__.ipynb",
   "parameters": {},
   "start_time": "2024-10-31T07:07:02.442468",
   "version": "2.6.0"
  }
 },
 "nbformat": 4,
 "nbformat_minor": 5
}
